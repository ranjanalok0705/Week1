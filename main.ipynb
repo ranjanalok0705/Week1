{
 "cells": [
  {
   "cell_type": "code",
   "execution_count": 1,
   "metadata": {},
   "outputs": [
    {
     "name": "stdout",
     "output_type": "stream",
     "text": [
      "Missing values in crop data:\n",
      " n              0\n",
      "p              0\n",
      "k              0\n",
      "temperature    0\n",
      "humidity       0\n",
      "ph             0\n",
      "rainfall       0\n",
      "label          0\n",
      "dtype: int64\n",
      "Missing values in fertilizer data:\n",
      " temperature        0\n",
      "humidity           0\n",
      "moisture           0\n",
      "soil_type          0\n",
      "crop_type          0\n",
      "nitrogen           0\n",
      "potassium          0\n",
      "phosphorus         0\n",
      "fertilizer_name    0\n",
      "dtype: int64\n",
      "\n",
      "Cleaned Crop Data Head:\n",
      "    n   p   k  temperature   humidity        ph    rainfall label\n",
      "0  90  42  43    20.879744  82.002744  6.502985  202.935536  rice\n",
      "1  85  58  41    21.770462  80.319644  7.038096  226.655537  rice\n",
      "2  60  55  44    23.004459  82.320763  7.840207  263.964248  rice\n",
      "3  74  35  40    26.491096  80.158363  6.980401  242.864034  rice\n",
      "4  78  42  42    20.130175  81.604873  7.628473  262.717340  rice\n",
      "\n",
      "Cleaned Fertilizer Data Head:\n",
      "   temperature  humidity  moisture soil_type  crop_type  nitrogen  potassium  \\\n",
      "0           26        52        38     Sandy      Maize        37          0   \n",
      "1           29        52        45     Loamy  Sugarcane        12          0   \n",
      "2           34        65        62     Black     Cotton         7          9   \n",
      "3           32        62        34       Red    Tobacco        22          0   \n",
      "4           28        54        46    Clayey      Paddy        35          0   \n",
      "\n",
      "   phosphorus fertilizer_name  \n",
      "0           0            Urea  \n",
      "1          36             DAP  \n",
      "2          30        14-35-14  \n",
      "3          20           28-28  \n",
      "4           0            Urea  \n"
     ]
    }
   ],
   "source": [
    "import pandas as pd\n",
    "\n",
    "crop_df = pd.read_csv(\"Crop_recommendation.csv\")\n",
    "fertilizer_df = pd.read_csv(\"Fertilizer Prediction.csv\")\n",
    "\n",
    "crop_df.columns = crop_df.columns.str.lower().str.replace(\" \", \"_\")\n",
    "\n",
    "fertilizer_df.columns = (\n",
    "    fertilizer_df.columns.str.strip().str.lower().str.replace(\" \", \"_\")\n",
    ")\n",
    "fertilizer_df.rename(\n",
    "    columns={\"temparature\": \"temperature\", \"phosphorous\": \"phosphorus\"},\n",
    "    inplace=True,\n",
    ")\n",
    "\n",
    "crop_df.drop_duplicates(inplace=True)\n",
    "fertilizer_df.drop_duplicates(inplace=True)\n",
    "\n",
    "print(\"Missing values in crop data:\\n\", crop_df.isnull().sum())\n",
    "print(\"Missing values in fertilizer data:\\n\", fertilizer_df.isnull().sum())\n",
    "\n",
    "print(\"\\nCleaned Crop Data Head:\")\n",
    "print(crop_df.head())\n",
    "\n",
    "print(\"\\nCleaned Fertilizer Data Head:\")\n",
    "print(fertilizer_df.head())\n"
   ]
  }
 ],
 "metadata": {
  "kernelspec": {
   "display_name": "Python 3",
   "language": "python",
   "name": "python3"
  },
  "language_info": {
   "codemirror_mode": {
    "name": "ipython",
    "version": 3
   },
   "file_extension": ".py",
   "mimetype": "text/x-python",
   "name": "python",
   "nbconvert_exporter": "python",
   "pygments_lexer": "ipython3",
   "version": "3.12.2"
  }
 },
 "nbformat": 4,
 "nbformat_minor": 2
}
